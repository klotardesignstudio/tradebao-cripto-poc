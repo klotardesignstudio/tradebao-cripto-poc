{
  "nbformat": 4,
  "nbformat_minor": 0,
  "metadata": {
    "colab": {
      "provenance": [],
      "authorship_tag": "ABX9TyNp2c1PfRif8nMUcYrBUruA",
      "include_colab_link": true
    },
    "kernelspec": {
      "name": "python3",
      "display_name": "Python 3"
    },
    "language_info": {
      "name": "python"
    }
  },
  "cells": [
    {
      "cell_type": "markdown",
      "metadata": {
        "id": "view-in-github",
        "colab_type": "text"
      },
      "source": [
        "<a href=\"https://colab.research.google.com/github/klotardesignstudio/tradebao-cripto-poc/blob/main/04_backtest_portfolio.ipynb\" target=\"_parent\"><img src=\"https://colab.research.google.com/assets/colab-badge.svg\" alt=\"Open In Colab\"/></a>"
      ]
    },
    {
      "cell_type": "markdown",
      "source": [
        "# TRADEBAO POC - NOTEBOOK 04: BACKTEST DE PORTFÓLIO (V2 - ANÁLISE DE TRADES)"
      ],
      "metadata": {
        "id": "AYk0boeGrA4Z"
      }
    },
    {
      "cell_type": "code",
      "source": [
        "from google.colab import drive\n",
        "drive.mount('/content/drive')"
      ],
      "metadata": {
        "colab": {
          "base_uri": "https://localhost:8080/"
        },
        "id": "5NCDXZViRc8a",
        "outputId": "fbdd9615-bfcf-453a-bde3-c3986b9d55c9"
      },
      "execution_count": 23,
      "outputs": [
        {
          "output_type": "stream",
          "name": "stdout",
          "text": [
            "Drive already mounted at /content/drive; to attempt to forcibly remount, call drive.mount(\"/content/drive\", force_remount=True).\n"
          ]
        }
      ]
    },
    {
      "cell_type": "code",
      "source": [
        "# 1. IMPORTS E FUNÇÃO RSI\n",
        "\n",
        "import pandas as pd\n",
        "import matplotlib.pyplot as plt\n",
        "import numpy as np\n",
        "\n",
        "def calculate_rsi(data, period=14):\n",
        "    close_delta = data['Close'].diff()\n",
        "    gain = close_delta.clip(lower=0)\n",
        "    loss = -1 * close_delta.clip(upper=0)\n",
        "    avg_gain = gain.ewm(com=period - 1, min_periods=period).mean()\n",
        "    avg_loss = loss.ewm(com=period - 1, min_periods=period).mean()\n",
        "    rs = avg_gain / avg_loss\n",
        "    rsi = 100 - (100 / (1 + rs))\n",
        "    data['RSI'] = rsi\n",
        "    return data"
      ],
      "metadata": {
        "id": "ocL1xUQhrNcg"
      },
      "execution_count": 24,
      "outputs": []
    },
    {
      "cell_type": "code",
      "source": [
        "# 2. NOVO MOTOR DE BACKTEST UNIFICADO E DETALHADO\n",
        "\n",
        "\n",
        "def backtest_engine(df_original, capital_inicial, strategy_type, taxa_transacao=0.001):\n",
        "    \"\"\"\n",
        "    Motor de backtest genérico que agora retorna o capital final E um log detalhado de trades.\n",
        "    \"\"\"\n",
        "    df = df_original.copy()\n",
        "\n",
        "    # --- Lógica de Sinais (depende da estratégia) ---\n",
        "    if strategy_type == 'Tendencia':\n",
        "        ema_curta, ema_longa, sma_tendencia = 21, 55, 100\n",
        "        df['EMA_curta'] = df['Close'].ewm(span=ema_curta, adjust=False).mean()\n",
        "        df['EMA_longa'] = df['Close'].ewm(span=ema_longa, adjust=False).mean()\n",
        "        df['SMA_tendencia'] = df['Close'].rolling(window=sma_tendencia).mean()\n",
        "        df.dropna(inplace=True)\n",
        "        filtro_tendencia = df['Close'] > df['SMA_tendencia']\n",
        "        df['sinal_compra'] = (df['EMA_curta'] > df['EMA_longa']) & (df['EMA_curta'].shift(1) < df['EMA_longa'].shift(1)) & filtro_tendencia\n",
        "        df['sinal_venda'] = (df['EMA_curta'] < df['EMA_longa']) & (df['EMA_curta'].shift(1) > df['EMA_longa'].shift(1))\n",
        "\n",
        "    elif strategy_type == 'RSI':\n",
        "        rsi_periodo, rsi_sobrevenda, rsi_saida = 14, 30, 50\n",
        "        df = calculate_rsi(df, period=rsi_periodo)\n",
        "        df.dropna(inplace=True)\n",
        "        df['sinal_compra'] = (df['RSI'].shift(1) > rsi_sobrevenda) & (df['RSI'] <= rsi_sobrevenda)\n",
        "        df['sinal_venda'] = (df['RSI'].shift(1) < rsi_saida) & (df['RSI'] >= rsi_saida)\n",
        "\n",
        "    # --- Loop de Backtest com Log Detalhado ---\n",
        "    capital_btc = capital_inicial\n",
        "    em_posicao = False\n",
        "    trades_log = []\n",
        "    entry_data = {}\n",
        "\n",
        "    # O capital só é alterado pelos resultados dos trades, vamos calculá-lo no final\n",
        "    # A variável 'capital_btc' agora representa o crescimento percentual\n",
        "    crescimento_acumulado = 1.0\n",
        "\n",
        "    for i, row in df.iterrows():\n",
        "        if row['sinal_compra'] and not em_posicao:\n",
        "            em_posicao = True\n",
        "            entry_data = {'data_entrada': i, 'preco_entrada': row['Close']}\n",
        "\n",
        "        elif row['sinal_venda'] and em_posicao:\n",
        "            em_posicao = False\n",
        "\n",
        "            # Calcula o resultado do trade\n",
        "            resultado_pct = ((row['Close'] - entry_data['preco_entrada']) / entry_data['preco_entrada'])\n",
        "            resultado_liquido_pct = resultado_pct - (2 * taxa_transacao) # Deduz taxa de entrada e saída\n",
        "            crescimento_acumulado *= (1 + resultado_liquido_pct)\n",
        "\n",
        "            # Log do trade\n",
        "            duracao = i - entry_data['data_entrada']\n",
        "            trades_log.append({\n",
        "                **entry_data,\n",
        "                'data_saida': i,\n",
        "                'preco_saida': row['Close'],\n",
        "                'duracao': duracao,\n",
        "                'resultado_bruto_pct': resultado_pct * 100,\n",
        "                'resultado_liquido_pct': resultado_liquido_pct * 100\n",
        "            })\n",
        "            entry_data = {}\n",
        "\n",
        "    capital_final = capital_inicial * crescimento_acumulado\n",
        "\n",
        "    # Se terminar em posição, liquidamos no último preço para o cálculo do capital final\n",
        "    if em_posicao:\n",
        "        last_price = df['Close'].iloc[-1]\n",
        "        resultado_pct = ((last_price - entry_data['preco_entrada']) / entry_data['preco_entrada'])\n",
        "        resultado_liquido_pct = resultado_pct - taxa_transacao # Só taxa de saída\n",
        "        capital_final = (capital_inicial / entry_data['preco_entrada']) * last_price * (1 - taxa_transacao)\n",
        "\n",
        "\n",
        "    return capital_final, pd.DataFrame(trades_log)"
      ],
      "metadata": {
        "id": "UEvxxOeurTbF"
      },
      "execution_count": 25,
      "outputs": []
    },
    {
      "cell_type": "code",
      "source": [
        "# 3. CONFIGURAÇÕES E EXECUÇÃO DO PORTFÓLIO\n",
        "\n",
        "# Começando com uma lista menor para uma análise de comportamento mais rápida\n",
        "simbolos = [\n",
        "    # Categoria: Inteligência Artificial (AI)\n",
        "    \"fetbtc\", \"rndrbtc\", \"agixbtc\", \"oceanbtc\", \"taobtc\", \"grtbtc\", \"phabtc\", \"rlcbtc\",\n",
        "\n",
        "    # Categoria: Memecoins & High-Beta L1s\n",
        "    \"dogebtc\", \"zilbtc\", \"icxbtc\", \"nearbtc\", \"pepeusdt\", \"wifusdt\", \"seibtc\", \"aptbtc\",\n",
        "\n",
        "    # Categoria: Infraestrutura (L1/L2)\n",
        "    \"solbtc\", \"avaxbtc\", \"ethbtc\", \"opbtc\", \"injbtc\", \"maticbtc\", \"sushibtc\", \"adabtc\",\n",
        "\n",
        "    # Categoria: Gaming / Metaverso\n",
        "    \"imxbtc\", \"flowbtc\", \"galabtc\", \"axsbtc\", \"manabtc\", \"sandbtc\", \"apebtc\", \"enjbtc\",\n",
        "\n",
        "    # Categoria: DePIN & RWA\n",
        "    \"iotxbtc\", \"filbtc\", \"arbtc\", \"thetabtc\", \"icpbtc\", \"ombtc\", \"aavebtc\", \"pendlebtc\",\n",
        "]\n",
        "capital_total_inicial = 1.0\n",
        "alocacao_tendencia = 0.5\n",
        "alocacao_rsi = 0.5\n",
        "\n",
        "# Listas para coletar os logs de todos os trades de todos os ativos\n",
        "log_total_tendencia = []\n",
        "log_total_rsi = []\n",
        "# Lista para o resumo de rentabilidade (como antes)\n",
        "resultados_portfolio = []\n",
        "\n",
        "for simbolo in simbolos:\n",
        "    # IMPORTANTE: Garanta que o nome do arquivo corresponde ao timeframe que você quer analisar (ex: _1h.csv)\n",
        "    caminho_do_arquivo = f'/content/drive/MyDrive/Colab Notebooks/TradeBaoCripto/dados_binance_{simbolo}_15m.csv'\n",
        "\n",
        "    try:\n",
        "        df_ativo = pd.read_csv(caminho_do_arquivo, index_col='Open Time', parse_dates=True)\n",
        "        print(f\"----- Processando {simbolo.upper()} em 1h -----\")\n",
        "    except FileNotFoundError:\n",
        "        print(f\"ERRO: Arquivo não encontrado para {simbolo}. Pulando.\")\n",
        "        continue\n",
        "\n",
        "    # Rodar os backtests e coletar os logs\n",
        "    resultado_final_tendencia, trades_tendencia = backtest_engine(df_ativo, capital_total_inicial * alocacao_tendencia, 'Tendencia')\n",
        "    resultado_final_rsi, trades_rsi = backtest_engine(df_ativo, capital_total_inicial * alocacao_rsi, 'RSI')\n",
        "\n",
        "    # Adiciona os logs de trade às listas totais\n",
        "    if not trades_tendencia.empty:\n",
        "        log_total_tendencia.append(trades_tendencia)\n",
        "    if not trades_rsi.empty:\n",
        "        log_total_rsi.append(trades_rsi)\n",
        "\n",
        "    # O resto do cálculo de rentabilidade continua como antes\n",
        "    capital_final_portfolio = resultado_final_tendencia + resultado_final_rsi\n",
        "    rent_tendencia = ((resultado_final_tendencia - (capital_total_inicial * alocacao_tendencia)) / (capital_total_inicial * alocacao_tendencia)) * 100\n",
        "    rent_rsi = ((resultado_final_rsi - (capital_total_inicial * alocacao_rsi)) / (capital_total_inicial * alocacao_rsi)) * 100\n",
        "    rent_portfolio = ((capital_final_portfolio - capital_total_inicial) / capital_total_inicial) * 100\n",
        "    rent_bh = ((df_ativo['Close'].iloc[-1] - df_ativo['Close'].iloc[0]) / df_ativo['Close'].iloc[0]) * 100 if not df_ativo.empty else 0\n",
        "    resultados_portfolio.append({'Ativo': simbolo, 'Rent. Tendência (%)': rent_tendencia, 'Rent. RSI (%)': rent_rsi, 'Rent. PORTFÓLIO (%)': rent_portfolio, 'Rent. B&H (%)': rent_bh})"
      ],
      "metadata": {
        "colab": {
          "base_uri": "https://localhost:8080/"
        },
        "id": "6521bwzhryg6",
        "outputId": "a732f701-6e2d-43dd-f535-d18a171e3518"
      },
      "execution_count": 26,
      "outputs": [
        {
          "output_type": "stream",
          "name": "stdout",
          "text": [
            "----- Processando FETBTC em 1h -----\n",
            "----- Processando RNDRBTC em 1h -----\n",
            "----- Processando AGIXBTC em 1h -----\n",
            "----- Processando OCEANBTC em 1h -----\n",
            "----- Processando TAOBTC em 1h -----\n",
            "----- Processando GRTBTC em 1h -----\n",
            "----- Processando PHABTC em 1h -----\n",
            "----- Processando RLCBTC em 1h -----\n",
            "----- Processando DOGEBTC em 1h -----\n",
            "----- Processando ZILBTC em 1h -----\n",
            "----- Processando ICXBTC em 1h -----\n",
            "----- Processando NEARBTC em 1h -----\n",
            "----- Processando PEPEUSDT em 1h -----\n",
            "----- Processando WIFUSDT em 1h -----\n",
            "----- Processando SEIBTC em 1h -----\n",
            "----- Processando APTBTC em 1h -----\n",
            "----- Processando SOLBTC em 1h -----\n",
            "----- Processando AVAXBTC em 1h -----\n",
            "----- Processando ETHBTC em 1h -----\n",
            "----- Processando OPBTC em 1h -----\n",
            "----- Processando INJBTC em 1h -----\n",
            "----- Processando MATICBTC em 1h -----\n",
            "----- Processando SUSHIBTC em 1h -----\n",
            "----- Processando ADABTC em 1h -----\n",
            "----- Processando IMXBTC em 1h -----\n",
            "----- Processando FLOWBTC em 1h -----\n",
            "----- Processando GALABTC em 1h -----\n",
            "----- Processando AXSBTC em 1h -----\n",
            "----- Processando MANABTC em 1h -----\n",
            "----- Processando SANDBTC em 1h -----\n",
            "----- Processando APEBTC em 1h -----\n",
            "----- Processando ENJBTC em 1h -----\n",
            "----- Processando IOTXBTC em 1h -----\n",
            "----- Processando FILBTC em 1h -----\n",
            "----- Processando ARBTC em 1h -----\n",
            "----- Processando THETABTC em 1h -----\n",
            "----- Processando ICPBTC em 1h -----\n",
            "----- Processando OMBTC em 1h -----\n",
            "----- Processando AAVEBTC em 1h -----\n",
            "----- Processando PENDLEBTC em 1h -----\n"
          ]
        }
      ]
    },
    {
      "cell_type": "code",
      "execution_count": 27,
      "metadata": {
        "colab": {
          "base_uri": "https://localhost:8080/"
        },
        "collapsed": true,
        "id": "D9pm-OWiRH_E",
        "outputId": "fb9014e1-05b7-46ce-a1b2-fd72e4d3440d"
      },
      "outputs": [
        {
          "output_type": "stream",
          "name": "stdout",
          "text": [
            "\n",
            "\n",
            "===== ANÁLISE DE COMPORTAMENTO - ESTRATÉGIA DE TENDÊNCIA =====\n",
            "Número Total de Trades: 31398\n",
            "Duração Média de um Trade: 0 days 11:23:07.779476399\n",
            "Duração Máxima de um Trade: 4 days 22:30:00\n",
            "Taxa de Acerto (Win Rate): 19.79%\n",
            "Lucro Médio (nos trades vencedores): 4.13%\n",
            "Prejuízo Médio (nos trades perdedores): -1.80%\n",
            "\n",
            "\n",
            "===== ANÁLISE DE COMPORTAMENTO - ESTRATÉGIA RSI =====\n",
            "Número Total de Trades: 24434\n",
            "Duração Média de um Trade: 0 days 05:25:30.486207743\n",
            "Duração Máxima de um Trade: 2 days 10:00:00\n",
            "Taxa de Acerto (Win Rate): 64.39%\n",
            "Lucro Médio (nos trades vencedores): 1.37%\n",
            "Prejuízo Médio (nos trades perdedores): -1.71%\n"
          ]
        }
      ],
      "source": [
        "# 4. NOVA SEÇÃO: ANÁLISE DE COMPORTAMENTO DAS ESTRATÉGIAS\n",
        "\n",
        "# Se a lista de logs não estiver vazia, concatena tudo em um único DataFrame e analisa\n",
        "if log_total_tendencia:\n",
        "    df_tendencia_trades = pd.concat(log_total_tendencia)\n",
        "    print(\"\\n\\n===== ANÁLISE DE COMPORTAMENTO - ESTRATÉGIA DE TENDÊNCIA =====\")\n",
        "    print(f\"Número Total de Trades: {len(df_tendencia_trades)}\")\n",
        "    print(f\"Duração Média de um Trade: {df_tendencia_trades['duracao'].mean()}\")\n",
        "    print(f\"Duração Máxima de um Trade: {df_tendencia_trades['duracao'].max()}\")\n",
        "    print(f\"Taxa de Acerto (Win Rate): {((df_tendencia_trades['resultado_liquido_pct'] > 0).sum() / len(df_tendencia_trades) * 100):.2f}%\")\n",
        "    print(f\"Lucro Médio (nos trades vencedores): {df_tendencia_trades[df_tendencia_trades['resultado_liquido_pct'] > 0]['resultado_liquido_pct'].mean():.2f}%\")\n",
        "    print(f\"Prejuízo Médio (nos trades perdedores): {df_tendencia_trades[df_tendencia_trades['resultado_liquido_pct'] < 0]['resultado_liquido_pct'].mean():.2f}%\")\n",
        "\n",
        "if log_total_rsi:\n",
        "    df_rsi_trades = pd.concat(log_total_rsi)\n",
        "    print(\"\\n\\n===== ANÁLISE DE COMPORTAMENTO - ESTRATÉGIA RSI =====\")\n",
        "    print(f\"Número Total de Trades: {len(df_rsi_trades)}\")\n",
        "    print(f\"Duração Média de um Trade: {df_rsi_trades['duracao'].mean()}\")\n",
        "    print(f\"Duração Máxima de um Trade: {df_rsi_trades['duracao'].max()}\")\n",
        "    print(f\"Taxa de Acerto (Win Rate): {((df_rsi_trades['resultado_liquido_pct'] > 0).sum() / len(df_rsi_trades) * 100):.2f}%\")\n",
        "    print(f\"Lucro Médio (nos trades vencedores): {df_rsi_trades[df_rsi_trades['resultado_liquido_pct'] > 0]['resultado_liquido_pct'].mean():.2f}%\")\n",
        "    print(f\"Prejuízo Médio (nos trades perdedores): {df_rsi_trades[df_rsi_trades['resultado_liquido_pct'] < 0]['resultado_liquido_pct'].mean():.2f}%\")"
      ]
    }
  ]
}